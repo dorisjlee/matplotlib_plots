{
 "metadata": {
  "name": ""
 },
 "nbformat": 3,
 "nbformat_minor": 0,
 "worksheets": [
  {
   "cells": [
    {
     "cell_type": "markdown",
     "metadata": {},
     "source": [
      "Purcell 1.12\n",
      "\n",
      "Field from a hemispherical shell\n",
      "\n",
      "Important points:\n",
      "\n",
      "- set $\\theta$ as the altitude angle,\n",
      "\n",
      "- Note that r is set as distance from P to dq ring NOT as radius of disk!\n",
      "\n",
      "- Use cosine law to find relation\n",
      "\n",
      "- Tricky $\\sqrt{(R-z)^2}$ yields two possibilities, each corresponding R-z>0 and R-z<0 $\\rightarrow$ z>R ,z<R"
     ]
    },
    {
     "cell_type": "code",
     "collapsed": false,
     "input": [
      "import matplotlib.pyplot as plt\n",
      "from pylab import *\n",
      "import numpy as np"
     ],
     "language": "python",
     "metadata": {},
     "outputs": [],
     "prompt_number": 135
    },
    {
     "cell_type": "code",
     "collapsed": false,
     "input": [
      "R=100\n",
      "z1 =np.linspace(-500,R)"
     ],
     "language": "python",
     "metadata": {},
     "outputs": [],
     "prompt_number": 123
    },
    {
     "cell_type": "code",
     "collapsed": false,
     "input": [
      "#I am ignoring the constants (factor) in the front, so at z=R, this should be normalized to 1.\n",
      "E_z1=(1/np.sqrt(1+np.square(z1)/np.square(R)))-1  #for z<R\n",
      "#E_z1"
     ],
     "language": "python",
     "metadata": {},
     "outputs": [],
     "prompt_number": 124
    },
    {
     "cell_type": "code",
     "collapsed": false,
     "input": [
      "pylab.plot(z1,E_z1)\n",
      "#pylab.plot(z2,E_z2,'co') #to superimpose, you must put them on the same line (weird feature of ipython notebook, ipython interactive wouldn't do this)"
     ],
     "language": "python",
     "metadata": {},
     "outputs": [
      {
       "metadata": {},
       "output_type": "pyout",
       "prompt_number": 125,
       "text": [
        "[<matplotlib.lines.Line2D at 0x108ea9dd0>]"
       ]
      },
      {
       "metadata": {},
       "output_type": "display_data",
       "png": "[encoded data removed]",
       "text": [
        "<matplotlib.figure.Figure at 0x108b68f10>"
       ]
      }
     ],
     "prompt_number": 125
    },
    {
     "cell_type": "code",
     "collapsed": false,
     "input": [
      "# Note that you need to start with \"ipython notebook --pylab inline\" for the show() method to work\n",
      "z2=np.linspace(R,800)"
     ],
     "language": "python",
     "metadata": {},
     "outputs": [],
     "prompt_number": 132
    },
    {
     "cell_type": "code",
     "collapsed": false,
     "input": [
      "E_z2=(1/np.sqrt(1+np.square(z2)/np.square(R)))+1  #for z<R"
     ],
     "language": "python",
     "metadata": {},
     "outputs": [],
     "prompt_number": 133
    },
    {
     "cell_type": "code",
     "collapsed": false,
     "input": [
      "def plot(x, y):\n",
      "    plt.scatter(x,y)\n",
      "    # plot other stuff here\n",
      "#pylab.plot(z2,E_z2,'co') \n",
      "pylab.plot(z1,E_z1)\n",
      "pylab.plot(0,1)#too small to be seen but this is where z=R , we can clearly see the jump discontinuty\n",
      "pylab.plot(z2,E_z2,'co') #to superimpose, you must put them on the same line (weird feature of ipython notebook, ipython interactive wouldn't do this)\n"
     ],
     "language": "python",
     "metadata": {},
     "outputs": [
      {
       "metadata": {},
       "output_type": "pyout",
       "prompt_number": 134,
       "text": [
        "[<matplotlib.lines.Line2D at 0x10930a2d0>]"
       ]
      },
      {
       "metadata": {},
       "output_type": "display_data",
       "png": "[encoded data removed]",
       "text": [
        "<matplotlib.figure.Figure at 0x109061c50>"
       ]
      }
     ],
     "prompt_number": 134
    }
   ],
   "metadata": {}
  }
 ]
}