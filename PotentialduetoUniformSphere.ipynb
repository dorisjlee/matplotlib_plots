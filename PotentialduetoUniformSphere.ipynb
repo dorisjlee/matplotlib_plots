{
 "metadata": {
  "name": ""
 },
 "nbformat": 3,
 "nbformat_minor": 0,
 "worksheets": [
  {
   "cells": [
    {
     "cell_type": "code",
     "collapsed": false,
     "input": [
      "# -*- coding: utf-8 -*-\n",
      "# <nbformat>3.0</nbformat>\n",
      "\n",
      "# <markdowncell>\n",
      "\n",
      "# Purcell 1.12\n",
      "# \n",
      "# Field from a hemispherical shell\n",
      "# \n",
      "# Important points:\n",
      "# \n",
      "# - set $\\theta$ as the altitude angle,\n",
      "# \n",
      "# - Note that r is set as distance from P to dq ring NOT as radius of disk!\n",
      "# \n",
      "# - Use cosine law to find relation\n",
      "# \n",
      "# - Tricky $\\sqrt{(R-z)^2}$ yields two possibilities, each corresponding R-z>0 and R-z<0 $\\rightarrow$ z>R ,z<R\n",
      "\n",
      "# <codecell>\n",
      "\n",
      "import matplotlib.pyplot as plt\n",
      "from pylab import *\n",
      "import numpy as np\n",
      "\n",
      "# <codecell>\n",
      "\n",
      "R=100\n",
      "z1 = np.linspace(R,500)\n",
      "z2 =np.linspace(0,R)\n",
      "\n",
      "# <codecell>\n",
      "\n",
      "#Ignoring all constants factors in front\n",
      "#for r>R \n",
      "phi_inside = 1/z1\n",
      "phi_outside = -np.square(R)-np.square(z2)\n",
      "\n",
      "\n",
      "def plot(x, y):\n",
      "    plt.scatter(x,y)\n",
      "    # plot other stuff here\n",
      "plt.plot(z1,phi_outside)\n",
      "plt.plot(z2,phi_inside)\n"
     ],
     "language": "python",
     "metadata": {},
     "outputs": [
      {
       "metadata": {},
       "output_type": "pyout",
       "prompt_number": 61,
       "text": [
        "[<matplotlib.lines.Line2D at 0x107ea2050>]"
       ]
      },
      {
       "metadata": {},
       "output_type": "display_data",
       "png": "[encoded data removed]",
       "text": [
        "<matplotlib.figure.Figure at 0x106c1ad50>"
       ]
      }
     ],
     "prompt_number": 61
    },
    {
     "cell_type": "code",
     "collapsed": false,
     "input": [],
     "language": "python",
     "metadata": {},
     "outputs": []
    },
    {
     "cell_type": "code",
     "collapsed": false,
     "input": [
      "import matplotlib.pyplot as plt\n",
      "from pylab import *\n",
      "import numpy as np\n",
      "\n",
      "rho=10 \n",
      "R=100\n",
      "e_0=8.85*np.power(10,-12)\n",
      "\n",
      "z1 = np.linspace(R,500)\n",
      "z2 =np.linspace(1.,R) #avoid zero division nonsense.\n",
      "#Actually, can not ignore all constants because need that for continuity\n",
      "#for r>R \n",
      "phi_inside = (rho*np.power(R,3))/(3*z1*e_0)\n",
      "phi_outside = -np.square(R)/(2*e_0)-np.square(z2)/(6*e_0)\n",
      "#phi_inside = 1/z1\n",
      "#phi_outside = -np.square(R)-np.square(z2)\n",
      "\n",
      "def plot(x, y):\n",
      "    plt.scatter(x,y)\n",
      "    # plot other stuff here\n",
      "plt.plot(z1,phi_outside)\n",
      "plt.plot(z2,phi_inside)\n",
      "plt.show()"
     ],
     "language": "python",
     "metadata": {},
     "outputs": [
      {
       "metadata": {},
       "output_type": "display_data",
       "png": "[encoded data removed]",
       "text": [
        "<matplotlib.figure.Figure at 0x1081cb190>"
       ]
      }
     ],
     "prompt_number": 60
    },
    {
     "cell_type": "code",
     "collapsed": false,
     "input": [
      "# -*- coding: utf-8 -*-\n",
      "# <nbformat>3.0</nbformat>\n",
      "\n",
      "# <markdowncell>\n",
      "\n",
      "# Purcell 1.12\n",
      "# \n",
      "# Field from a hemispherical shell\n",
      "# \n",
      "# Important points:\n",
      "# \n",
      "# - set $\\theta$ as the altitude angle,\n",
      "# \n",
      "# - Note that r is set as distance from P to dq ring NOT as radius of disk!\n",
      "# \n",
      "# - Use cosine law to find relation\n",
      "# \n",
      "# - Tricky $\\sqrt{(R-z)^2}$ yields two possibilities, each corresponding R-z>0 and R-z<0 $\\rightarrow$ z>R ,z<R\n",
      "\n",
      "# <codecell>\n",
      "\n",
      "import matplotlib.pyplot as plt\n",
      "from pylab import *\n",
      "import numpy as np\n",
      "\n",
      "e_0=8.85*np.power(10,-12)\n",
      "rho=100\n",
      "R=100\n",
      "z1 = np.linspace(R,500)\n",
      "z2 =np.linspace(1,R)\n",
      "\n",
      "\n",
      "phi_inside = (rho*np.power(R,3))/(3*z1*e_0)\n",
      "phi_outside = -np.square(R)/(2*e_0)-np.square(z2)/(6*e_0)\n",
      "\n",
      "\n",
      "def plot(x, y):\n",
      "    plt.scatter(x,y)\n",
      "plt.plot(z1,phi_outside)\n",
      "plt.plot(z2,phi_inside)\n"
     ],
     "language": "python",
     "metadata": {},
     "outputs": [
      {
       "metadata": {},
       "output_type": "pyout",
       "prompt_number": 64,
       "text": [
        "[<matplotlib.lines.Line2D at 0x108ed5b10>]"
       ]
      },
      {
       "metadata": {},
       "output_type": "display_data",
       "png": "[encoded data removed]",
       "text": [
        "<matplotlib.figure.Figure at 0x10889a450>"
       ]
      }
     ],
     "prompt_number": 64
    },
    {
     "cell_type": "code",
     "collapsed": false,
     "input": [
      "np.power(2,4)"
     ],
     "language": "python",
     "metadata": {},
     "outputs": [
      {
       "metadata": {},
       "output_type": "pyout",
       "prompt_number": 33,
       "text": [
        "16"
       ]
      }
     ],
     "prompt_number": 33
    },
    {
     "cell_type": "markdown",
     "metadata": {},
     "source": [
      "Then if I take the derivative of this , I would also get continuous electric field since the slope is also continuous, as seen in above graph\n"
     ]
    }
   ],
   "metadata": {}
  }
 ]
}